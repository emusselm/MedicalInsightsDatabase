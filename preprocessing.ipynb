{
 "cells": [
  {
   "cell_type": "code",
   "execution_count": null,
   "id": "4b3aa5d4-de3e-4276-93b3-7e65fb8aa017",
   "metadata": {},
   "outputs": [],
   "source": [
    "# thi file contains all preprocessing and mysql upload for the initial database state upload\n",
    "# data is uploaded from mysql to bigquery"
   ]
  },
  {
   "cell_type": "markdown",
   "id": "ff096644-26a3-4b5c-bbc8-30e15a06c1a8",
   "metadata": {},
   "source": [
    "### Data Preprocessing"
   ]
  },
  {
   "cell_type": "code",
   "execution_count": null,
   "id": "27065f22-f0fe-4f36-bddc-abd505d03949",
   "metadata": {},
   "outputs": [],
   "source": [
    "import numpy as np\n",
    "import pandas as pd\n",
    "import matplotlib.pyplot as plt\n",
    "import seaborn as sns\n",
    "%matplotlib inline\n",
    "\n",
    "pd.set_option('display.max_columns',500) \n",
    "plt.style.use('seaborn-v0_8-colorblind') #a style that can be used for plots\n",
    "sns.set_style('whitegrid')"
   ]
  },
  {
   "cell_type": "code",
   "execution_count": null,
   "id": "808dfb6b-3d5d-4573-8510-9d679aa4b8d0",
   "metadata": {},
   "outputs": [],
   "source": [
    "df = pd.read_csv('data/heart_disease_uci.csv', index_col = 0, header = 0)\n",
    "df.info()"
   ]
  },
  {
   "cell_type": "code",
   "execution_count": null,
   "id": "707ea307-825a-4fb1-a76c-d385b6a0b319",
   "metadata": {},
   "outputs": [],
   "source": [
    "# drop dataset the data is from \n",
    "# and drop 'ca' - we are missing > 60% of this values and we dont need to fill it in\n",
    "df = df.drop(['dataset', 'ca'], axis=1)"
   ]
  },
  {
   "cell_type": "code",
   "execution_count": null,
   "id": "e2e21fa7-e77b-4f1e-8d65-879bd5094a23",
   "metadata": {},
   "outputs": [],
   "source": [
    "# rename columns for my sanity\n",
    "df.rename(columns = {'cp':'Chest_Pain_Type', 'trestbps':'Resting_Blood_Pressure','chol':'serum_cholesterol','fbs':'Fasting_Blood_Sugar','restecg':'Resting_Electrocardiographic','thalch':'Maximum_Heart_Rate','exang':'Exercise_Induced_Angina','oldpeak':'ST_Depression_Induced','thal':'Heart_Condition'}, inplace = True)"
   ]
  },
  {
   "cell_type": "code",
   "execution_count": null,
   "id": "f27fb06e-eed1-4b9f-9a57-faa9885db325",
   "metadata": {},
   "outputs": [],
   "source": [
    "# fill Resting_Blood_Pressure n/a with mean values\n",
    "df[\"Resting_Blood_Pressure\"].fillna(df[\"Resting_Blood_Pressure\"].mean(), inplace=True)\n",
    "\n",
    "# fill serum_cholesterol n/a with mean values\n",
    "df[\"serum_cholesterol\"].fillna(df[\"serum_cholesterol\"].mean(), inplace=True)\n",
    "\n",
    "# fill age n/a with mean values\n",
    "df[\"age\"].fillna(df[\"age\"].mean(), inplace=True)\n",
    "\n",
    "# fill Fasting_Blood_Sugar n/a with mean valuesForst. \n",
    "df[\"Fasting_Blood_Sugar\"].fillna(df[\"Fasting_Blood_Sugar\"].astype(float).mean(), inplace=True)\n",
    "\n",
    "# fill Maximum_Heart_Rate n/a with mean values\n",
    "df[\"Maximum_Heart_Rate\"].fillna(df[\"Maximum_Heart_Rate\"].mean(), inplace=True)\n",
    "\n",
    "# fill ST_Depression_Induced n/a with mean values\n",
    "df[\"ST_Depression_Induced\"].fillna(df[\"ST_Depression_Induced\"].mean(), inplace=True)"
   ]
  },
  {
   "cell_type": "code",
   "execution_count": null,
   "id": "b8645db7-1b6d-435e-9d90-6c2c07a9f6e1",
   "metadata": {},
   "outputs": [],
   "source": [
    "# function to help fill in categorical data\n",
    "def na_randomfill(series):\n",
    "    na_mask = pd.isnull(series)   # boolean mask for null values\n",
    "    n_null = na_mask.sum()        # number of nulls in the Series\n",
    "    \n",
    "    if n_null == 0:\n",
    "        return series             # if there are no nulls, no need to resample\n",
    "    \n",
    "    # Randomly sample the non-null values from our series\n",
    "    #  only sample this Series as many times as we have nulls \n",
    "    fill_values = series[~na_mask].sample(n=n_null, replace=True, random_state=0)\n",
    "\n",
    "    # This ensures our new values will replace NaNs in the correct locations\n",
    "    fill_values.index = series.index[na_mask]\n",
    "    \n",
    "    return series.fillna(fill_values) "
   ]
  },
  {
   "cell_type": "code",
   "execution_count": null,
   "id": "8a5a257d-0fa4-4b4a-9745-39c36631cd6c",
   "metadata": {},
   "outputs": [],
   "source": [
    "# fill in the rest of the values with distributed random values\n",
    "df[\"Resting_Electrocardiographic\"] = na_randomfill(df[\"Resting_Electrocardiographic\"])\n",
    "df[\"Exercise_Induced_Angina\"] = na_randomfill(df[\"Exercise_Induced_Angina\"])\n",
    "df[\"ST_Depression_Induced\"] = na_randomfill(df[\"ST_Depression_Induced\"])\n",
    "df[\"slope\"] = na_randomfill(df[\"slope\"])\n",
    "df[\"Heart_Condition\"] = na_randomfill(df[\"Heart_Condition\"])"
   ]
  },
  {
   "cell_type": "markdown",
   "id": "fb7cb97e-a30d-4808-ae41-d1dda3d909e5",
   "metadata": {},
   "source": [
    "### Generate Data/Connect and Load Data to MySQL"
   ]
  },
  {
   "cell_type": "code",
   "execution_count": null,
   "id": "d05bdf13-d1bf-4044-8b40-e5faaf862a60",
   "metadata": {},
   "outputs": [],
   "source": [
    "#!pip install names"
   ]
  },
  {
   "cell_type": "code",
   "execution_count": null,
   "id": "25bc8170-e9bd-4d0a-9152-ce0655934aec",
   "metadata": {},
   "outputs": [],
   "source": [
    "#!pip install random_address"
   ]
  },
  {
   "cell_type": "code",
   "execution_count": null,
   "id": "5d3585ba-3ab5-4b4b-b5e2-0358b2f05607",
   "metadata": {},
   "outputs": [],
   "source": [
    "import names\n",
    "import random\n",
    "import random_address\n",
    "from datetime import date\n",
    "import datetime"
   ]
  },
  {
   "cell_type": "code",
   "execution_count": null,
   "id": "164d1fc1-22ea-4880-99c9-acdc9fc465c4",
   "metadata": {},
   "outputs": [],
   "source": [
    "import mysql.connector\n",
    "\n",
    "mydb = mysql.connector.connect(\n",
    "  host=\"localhost\",\n",
    "  user=\"root\",\n",
    "  port=3306,\n",
    "  password=\"mQ0NjNmZ!\",\n",
    "  database=\"cardiology\"\n",
    ")"
   ]
  },
  {
   "cell_type": "code",
   "execution_count": null,
   "id": "3cb53bfc-a12f-4c65-b9b2-141148bab71d",
   "metadata": {},
   "outputs": [],
   "source": [
    "mycursor = mydb.cursor()"
   ]
  },
  {
   "cell_type": "code",
   "execution_count": null,
   "id": "e6bb4021-72be-4e6a-b68e-bf3a47925516",
   "metadata": {},
   "outputs": [],
   "source": [
    "#random number generator\n",
    "def rand_x_digit_num(x, leading_zeroes=True):\n",
    "    \"\"\"Return an X digit number, leading_zeroes returns a string, otherwise int\"\"\"\n",
    "    if not leading_zeroes:\n",
    "        # wrap with str() for uniform results\n",
    "        return random.randint(10**(x-1), 10**x-1)  \n",
    "    else:\n",
    "        if x > 6000:\n",
    "            return ''.join([str(random.randint(0, 9)) for i in xrange(x)])\n",
    "        else:\n",
    "            return '{0:0{x}d}'.format(random.randint(0, 10**x-1), x=x)      "
   ]
  },
  {
   "cell_type": "code",
   "execution_count": null,
   "id": "6d635942-1e9b-4b59-a6b2-0593e3155f59",
   "metadata": {},
   "outputs": [],
   "source": []
  }
 ],
 "metadata": {
  "kernelspec": {
   "display_name": "Python 3 (ipykernel)",
   "language": "python",
   "name": "python3"
  },
  "language_info": {
   "codemirror_mode": {
    "name": "ipython",
    "version": 3
   },
   "file_extension": ".py",
   "mimetype": "text/x-python",
   "name": "python",
   "nbconvert_exporter": "python",
   "pygments_lexer": "ipython3",
   "version": "3.9.7"
  }
 },
 "nbformat": 4,
 "nbformat_minor": 5
}
