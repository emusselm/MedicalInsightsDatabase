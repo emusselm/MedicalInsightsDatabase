{
 "cells": [
  {
   "cell_type": "code",
   "execution_count": null,
   "id": "4b3aa5d4-de3e-4276-93b3-7e65fb8aa017",
   "metadata": {},
   "outputs": [],
   "source": [
    "# thi file contains all preprocessing and mysql upload for the initial database state upload\n",
    "# data is uploaded from mysql to bigquery"
   ]
  },
  {
   "cell_type": "markdown",
   "id": "ff096644-26a3-4b5c-bbc8-30e15a06c1a8",
   "metadata": {},
   "source": [
    "### Data Preprocessing"
   ]
  },
  {
   "cell_type": "code",
   "execution_count": null,
   "id": "27065f22-f0fe-4f36-bddc-abd505d03949",
   "metadata": {},
   "outputs": [],
   "source": [
    "import numpy as np\n",
    "import pandas as pd\n",
    "import matplotlib.pyplot as plt\n",
    "import seaborn as sns\n",
    "%matplotlib inline\n",
    "\n",
    "pd.set_option('display.max_columns',500) \n",
    "plt.style.use('seaborn-v0_8-colorblind') #a style that can be used for plots\n",
    "sns.set_style('whitegrid')"
   ]
  },
  {
   "cell_type": "code",
   "execution_count": null,
   "id": "808dfb6b-3d5d-4573-8510-9d679aa4b8d0",
   "metadata": {},
   "outputs": [],
   "source": [
    "df = pd.read_csv('data/heart_disease_uci.csv', index_col = 0, header = 0)\n",
    "df.info()"
   ]
  },
  {
   "cell_type": "code",
   "execution_count": null,
   "id": "707ea307-825a-4fb1-a76c-d385b6a0b319",
   "metadata": {},
   "outputs": [],
   "source": [
    "# drop dataset the data is from \n",
    "# and drop 'ca' - we are missing > 60% of this values and we dont need to fill it in\n",
    "df = df.drop(['dataset', 'ca'], axis=1)"
   ]
  },
  {
   "cell_type": "code",
   "execution_count": null,
   "id": "e2e21fa7-e77b-4f1e-8d65-879bd5094a23",
   "metadata": {},
   "outputs": [],
   "source": [
    "# rename columns for my sanity\n",
    "df.rename(columns = {'cp':'Chest_Pain_Type', 'trestbps':'Resting_Blood_Pressure','chol':'serum_cholesterol','fbs':'Fasting_Blood_Sugar','restecg':'Resting_Electrocardiographic','thalch':'Maximum_Heart_Rate','exang':'Exercise_Induced_Angina','oldpeak':'ST_Depression_Induced','thal':'Heart_Condition'}, inplace = True)"
   ]
  },
  {
   "cell_type": "code",
   "execution_count": null,
   "id": "f27fb06e-eed1-4b9f-9a57-faa9885db325",
   "metadata": {},
   "outputs": [],
   "source": [
    "# fill Resting_Blood_Pressure n/a with mean values\n",
    "df[\"Resting_Blood_Pressure\"].fillna(df[\"Resting_Blood_Pressure\"].mean(), inplace=True)\n",
    "\n",
    "# fill serum_cholesterol n/a with mean values\n",
    "df[\"serum_cholesterol\"].fillna(df[\"serum_cholesterol\"].mean(), inplace=True)\n",
    "\n",
    "# fill age n/a with mean values\n",
    "df[\"age\"].fillna(df[\"age\"].mean(), inplace=True)\n",
    "\n",
    "# fill Fasting_Blood_Sugar n/a with mean valuesForst. \n",
    "df[\"Fasting_Blood_Sugar\"].fillna(df[\"Fasting_Blood_Sugar\"].astype(float).mean(), inplace=True)\n",
    "\n",
    "# fill Maximum_Heart_Rate n/a with mean values\n",
    "df[\"Maximum_Heart_Rate\"].fillna(df[\"Maximum_Heart_Rate\"].mean(), inplace=True)\n",
    "\n",
    "# fill ST_Depression_Induced n/a with mean values\n",
    "df[\"ST_Depression_Induced\"].fillna(df[\"ST_Depression_Induced\"].mean(), inplace=True)"
   ]
  },
  {
   "cell_type": "code",
   "execution_count": null,
   "id": "b8645db7-1b6d-435e-9d90-6c2c07a9f6e1",
   "metadata": {},
   "outputs": [],
   "source": [
    "# function to help fill in categorical data\n",
    "def na_randomfill(series):\n",
    "    na_mask = pd.isnull(series)   # boolean mask for null values\n",
    "    n_null = na_mask.sum()        # number of nulls in the Series\n",
    "    \n",
    "    if n_null == 0:\n",
    "        return series             # if there are no nulls, no need to resample\n",
    "    \n",
    "    # Randomly sample the non-null values from our series\n",
    "    #  only sample this Series as many times as we have nulls \n",
    "    fill_values = series[~na_mask].sample(n=n_null, replace=True, random_state=0)\n",
    "\n",
    "    # This ensures our new values will replace NaNs in the correct locations\n",
    "    fill_values.index = series.index[na_mask]\n",
    "    \n",
    "    return series.fillna(fill_values) "
   ]
  },
  {
   "cell_type": "code",
   "execution_count": null,
   "id": "8a5a257d-0fa4-4b4a-9745-39c36631cd6c",
   "metadata": {},
   "outputs": [],
   "source": [
    "# fill in the rest of the values with distributed random values\n",
    "df[\"Resting_Electrocardiographic\"] = na_randomfill(df[\"Resting_Electrocardiographic\"])\n",
    "df[\"Exercise_Induced_Angina\"] = na_randomfill(df[\"Exercise_Induced_Angina\"])\n",
    "df[\"ST_Depression_Induced\"] = na_randomfill(df[\"ST_Depression_Induced\"])\n",
    "df[\"slope\"] = na_randomfill(df[\"slope\"])\n",
    "df[\"Heart_Condition\"] = na_randomfill(df[\"Heart_Condition\"])"
   ]
  },
  {
   "cell_type": "markdown",
   "id": "fb7cb97e-a30d-4808-ae41-d1dda3d909e5",
   "metadata": {},
   "source": [
    "### Generate Data/Connect and Load Data to MySQL"
   ]
  },
  {
   "cell_type": "code",
   "execution_count": null,
   "id": "d05bdf13-d1bf-4044-8b40-e5faaf862a60",
   "metadata": {},
   "outputs": [],
   "source": [
    "#!pip install names"
   ]
  },
  {
   "cell_type": "code",
   "execution_count": null,
   "id": "25bc8170-e9bd-4d0a-9152-ce0655934aec",
   "metadata": {},
   "outputs": [],
   "source": [
    "#!pip install random_address"
   ]
  },
  {
   "cell_type": "code",
   "execution_count": null,
   "id": "5d3585ba-3ab5-4b4b-b5e2-0358b2f05607",
   "metadata": {},
   "outputs": [],
   "source": [
    "import names\n",
    "import random\n",
    "import random_address\n",
    "from datetime import date\n",
    "import datetime"
   ]
  },
  {
   "cell_type": "code",
   "execution_count": null,
   "id": "164d1fc1-22ea-4880-99c9-acdc9fc465c4",
   "metadata": {},
   "outputs": [],
   "source": [
    "import mysql.connector\n",
    "\n",
    "mydb = mysql.connector.connect(\n",
    "  host=\"localhost\",\n",
    "  user=\"root\",\n",
    "  port=3306,\n",
    "  password=\"PASSWORD\",\n",
    "  database=\"cardiology\"\n",
    ")"
   ]
  },
  {
   "cell_type": "code",
   "execution_count": null,
   "id": "3cb53bfc-a12f-4c65-b9b2-141148bab71d",
   "metadata": {},
   "outputs": [],
   "source": [
    "mycursor = mydb.cursor()"
   ]
  },
  {
   "cell_type": "code",
   "execution_count": null,
   "id": "e6bb4021-72be-4e6a-b68e-bf3a47925516",
   "metadata": {},
   "outputs": [],
   "source": [
    "#random number generator\n",
    "def rand_x_digit_num(x, leading_zeroes=True):\n",
    "    \"\"\"Return an X digit number, leading_zeroes returns a string, otherwise int\"\"\"\n",
    "    if not leading_zeroes:\n",
    "        # wrap with str() for uniform results\n",
    "        return random.randint(10**(x-1), 10**x-1)  \n",
    "    else:\n",
    "        if x > 6000:\n",
    "            return ''.join([str(random.randint(0, 9)) for i in xrange(x)])\n",
    "        else:\n",
    "            return '{0:0{x}d}'.format(random.randint(0, 10**x-1), x=x)      "
   ]
  },
  {
   "cell_type": "code",
   "execution_count": null,
   "id": "6d635942-1e9b-4b59-a6b2-0593e3155f59",
   "metadata": {},
   "outputs": [],
   "source": [
    "#area codes from phone number\n",
    "stateAreaCode = {\"AK\": [907],\n",
    "            \"AL\": [205, 251, 256, 334],\n",
    "            \"AZ\": [479, 501, 870],\n",
    "            \"AR\": [480, 520, 602, 623, 928],\n",
    "            \"CA\": [209, 213, 310, 323, 408, 415, 510, 530, 559, 562, 619, 626, 650, 661, 707, 714, 760, 805, 818, 831, 858, 909, 916, 925, 949, 951],\n",
    "            \"CO\": [303, 719, 970],\n",
    "            \"CT\": [203, 860],\n",
    "            \"DC\": [202],\n",
    "            \"DE\": [302],\n",
    "            \"FL\": [239, 305, 321, 352, 386, 407, 561, 727, 772, 813, 850, 863, 904, 941, 954],\n",
    "            \"GA\": [229, 404, 478, 706, 770, 912],\n",
    "            \"HI\": [808],\n",
    "            \"IA\": [319, 515, 563, 641, 712],\n",
    "            \"ID\": [208],\n",
    "            \"IL\": [217, 309, 312, 618, 630, 708, 773, 815, 847],\n",
    "            \"IN\": [219, 260, 317, 574, 765, 812],\n",
    "            \"KS\": [316, 620, 785, 913],\n",
    "            \"KY\": [270, 502, 606, 859],\n",
    "            \"LA\": [225, 318, 337, 504, 985],\n",
    "            \"MA\": [413, 508, 617, 781, 978],\n",
    "            \"MD\": [301, 410],\n",
    "            \"ME\": [207],\n",
    "            \"MI\": [231, 248, 269, 313, 517, 586, 616, 734, 810, 906, 989],\n",
    "            \"MN\": [218, 320, 507, 612, 651, 763, 952],\n",
    "            \"MO\": [314, 417, 573, 636, 660, 816],\n",
    "            \"MS\": [228, 601, 662],\n",
    "            \"MT\": [406],\n",
    "            \"NC\": [252, 336, 704, 828, 910, 919],\n",
    "            \"ND\": [701],\n",
    "            \"NE\": [308, 402],\n",
    "            \"NH\": [603],\n",
    "            \"NJ\": [201, 609, 732, 856, 908, 973],\n",
    "            \"NM\": [505, 575],\n",
    "            \"NV\": [702, 775],\n",
    "            \"NY\": [212, 315, 516, 518, 585, 607, 631, 716, 718, 845, 914],\n",
    "            \"OH\": [216, 330, 419, 440, 513, 614, 740, 937],\n",
    "            \"OK\": [405, 580, 918],\n",
    "            \"OR\": [503, 541],\n",
    "            \"PA\": [215, 412, 570, 610, 717, 724, 814],\n",
    "            \"RI\": [401],\n",
    "            \"SC\": [803, 843, 864],\n",
    "            \"SD\": [605],\n",
    "            \"TN\": [423, 615, 731, 865, 901, 931],\n",
    "            \"TX\": [210, 214, 254, 281, 325, 361, 409, 432, 512, 713, 806, 817, 830, 903, 915, 936, 940, 956, 972, 979],\n",
    "            \"UT\": [435, 801],\n",
    "            \"VA\": [276, 434, 540, 703, 757, 804],\n",
    "            \"VT\": [802],\n",
    "            \"WA\": [206, 253, 360, 425, 509],\n",
    "            \"WI\": [262, 414, 608, 715, 920],\n",
    "            \"WV\": [304],\n",
    "            \"WY\": [307]\n",
    "}"
   ]
  },
  {
   "cell_type": "code",
   "execution_count": null,
   "id": "34c5ca11-6807-4ddf-bbfd-0e34dea58776",
   "metadata": {},
   "outputs": [],
   "source": [
    "patient_sql = \"INSERT INTO PATIENT (SSN, Fname, Lname, gender, age, street, city, state, zip, phone, doctorID, emergencyNum, emergencyName) VALUES (%s, %s, %s, %s, %s, %s,%s,%s,%s,%s,%s,%s,%s)\"\n",
    "medical_sql = \"INSERT INTO MEDICAL_DATA (SSN, apptDate, cp, trestbps, chol, fbs, restecg, thalch, exang, oldpeak, slope, thal, evaluation) VALUES (%s, %s, %s, %s, %s, %s,%s,%s,%s,%s,%s,%s,%s)\"\n",
    "doctor_sql = \"INSERT INTO DOCTOR (Fname, Lname, phone, office) VALUES (%s, %s, %s, %s)\""
   ]
  },
  {
   "cell_type": "code",
   "execution_count": null,
   "id": "a0174dd0-5669-42a2-ba83-2dfb63992b62",
   "metadata": {},
   "outputs": [],
   "source": [
    "# insert doctor data\n",
    "for i in range(20): \n",
    "    first = names.get_first_name()\n",
    "    last = names.get_last_name()\n",
    "    email = first + \".\" + last + \"@cardiology.com\"\n",
    "    phone = rand_x_digit_num(7)\n",
    "    office_num = 300+i\n",
    "    doctor_val = (first, last, phone, office_num) \n",
    "    mycursor.execute(doctor_sql, doctor_val)\n",
    "    mydb.commit()"
   ]
  },
  {
   "cell_type": "code",
   "execution_count": null,
   "id": "bcd650b8-3307-4a1b-a4a8-c991a18ca825",
   "metadata": {},
   "outputs": [],
   "source": [
    "for index, row in df.iterrows():\n",
    "    SSN = rand_x_digit_num(9)\n",
    "    first = names.get_first_name(gender=row['sex'])\n",
    "    last = names.get_last_name()\n",
    "    flag = True\n",
    "    address = random_address.real_random_address()\n",
    "    while(flag):\n",
    "        try:\n",
    "            street = address['address1']\n",
    "            city = address['city']\n",
    "            state = address['state']\n",
    "            zipCode = address['postalCode']\n",
    "            flag = False\n",
    "        except KeyError: \n",
    "            address = random_address.real_random_address()\n",
    "            flag = True\n",
    "            \n",
    "    phone_number = int(str(stateAreaCode[address[\"state\"]][random.randint(0,len(stateAreaCode[address[\"state\"]])-1)])+rand_x_digit_num(7))\n",
    "    emergency_number = int(str(stateAreaCode[address[\"state\"]][random.randint(0,len(stateAreaCode[address[\"state\"]])-1)])+rand_x_digit_num(7))\n",
    "    emergency_name = names.get_full_name()\n",
    "    doctorID = (index%20)+1\n",
    "    patient_val = (SSN, first, last, row['sex'], row['age'], street, city, state, zipCode, phone_number, doctorID, emergency_number, emergency_name)\n",
    "    mycursor.execute(patient_sql, patient_val)\n",
    "    mydb.commit()\n",
    "    \n",
    "    medical_val = (SSN, date.today(), row['Chest_Pain_Type'], row['Resting_Blood_Pressure'], row['serum_cholesterol'], row['Fasting_Blood_Sugar'], row['Resting_Electrocardiographic'], \n",
    "                   row['Maximum_Heart_Rate'], row['Exercise_Induced_Angina'], row['ST_Depression_Induced'], row['slope'], row['Heart_Condition'], row['num'])\n",
    "    \n",
    "    mycursor.execute(medical_sql, medical_val)\n",
    "    mydb.commit()\n",
    "    "
   ]
  },
  {
   "cell_type": "code",
   "execution_count": null,
   "id": "3318e185-63de-4603-9c25-0dd8f3109501",
   "metadata": {},
   "outputs": [],
   "source": [
    "#close connection\n",
    "mydb.close()"
   ]
  },
  {
   "cell_type": "code",
   "execution_count": null,
   "id": "5d45e88d-5c14-4369-8c29-1ca24ccc0fbb",
   "metadata": {},
   "outputs": [],
   "source": []
  }
 ],
 "metadata": {
  "kernelspec": {
   "display_name": "Python 3 (ipykernel)",
   "language": "python",
   "name": "python3"
  },
  "language_info": {
   "codemirror_mode": {
    "name": "ipython",
    "version": 3
   },
   "file_extension": ".py",
   "mimetype": "text/x-python",
   "name": "python",
   "nbconvert_exporter": "python",
   "pygments_lexer": "ipython3",
   "version": "3.9.7"
  }
 },
 "nbformat": 4,
 "nbformat_minor": 5
}
