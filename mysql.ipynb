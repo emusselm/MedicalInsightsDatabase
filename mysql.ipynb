{
 "cells": [
  {
   "cell_type": "code",
   "execution_count": 1,
   "id": "b5bc0bed-3d2d-4656-9367-dd619bd9ea3b",
   "metadata": {},
   "outputs": [
    {
     "name": "stdout",
     "output_type": "stream",
     "text": [
      "Collecting Faker\n",
      "  Downloading Faker-17.5.0-py3-none-any.whl (1.7 MB)\n",
      "     ---------------------------------------- 1.7/1.7 MB 7.7 MB/s eta 0:00:00\n",
      "Requirement already satisfied: python-dateutil>=2.4 in c:\\users\\emily\\anaconda3\\lib\\site-packages (from Faker) (2.8.2)\n",
      "Requirement already satisfied: six>=1.5 in c:\\users\\emily\\anaconda3\\lib\\site-packages (from python-dateutil>=2.4->Faker) (1.16.0)\n",
      "Installing collected packages: Faker\n",
      "Successfully installed Faker-17.5.0\n"
     ]
    }
   ],
   "source": [
    "# install Faker if not already on the machine\n",
    "# !pip install Faker"
   ]
  },
  {
   "cell_type": "code",
   "execution_count": 2,
   "id": "bd36823d-a985-4158-9a90-b85490b25a8f",
   "metadata": {},
   "outputs": [],
   "source": [
    "# set up the faker with a random seed\n",
    "from faker import Faker\n",
    "fake = Faker()\n",
    "fake.seed_instance(4321)"
   ]
  },
  {
   "cell_type": "code",
   "execution_count": 8,
   "id": "10e229e7-1352-4e10-bbf9-5bc8c237928f",
   "metadata": {},
   "outputs": [
    {
     "data": {
      "text/plain": [
       "'054-51-9007'"
      ]
     },
     "execution_count": 8,
     "metadata": {},
     "output_type": "execute_result"
    }
   ],
   "source": []
  },
  {
   "cell_type": "code",
   "execution_count": null,
   "id": "0c5c6309-ff0f-4fd0-8b52-0037d6375109",
   "metadata": {},
   "outputs": [],
   "source": []
  }
 ],
 "metadata": {
  "kernelspec": {
   "display_name": "Python 3 (ipykernel)",
   "language": "python",
   "name": "python3"
  },
  "language_info": {
   "codemirror_mode": {
    "name": "ipython",
    "version": 3
   },
   "file_extension": ".py",
   "mimetype": "text/x-python",
   "name": "python",
   "nbconvert_exporter": "python",
   "pygments_lexer": "ipython3",
   "version": "3.9.7"
  }
 },
 "nbformat": 4,
 "nbformat_minor": 5
}
