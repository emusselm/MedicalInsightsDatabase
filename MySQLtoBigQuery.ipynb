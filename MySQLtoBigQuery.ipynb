{
 "cells": [
  {
   "cell_type": "code",
   "execution_count": null,
   "id": "2adf1936-0e45-48a6-888b-bff432ac46c8",
   "metadata": {},
   "outputs": [],
   "source": [
    "#!pip install pandas-gbq"
   ]
  },
  {
   "cell_type": "code",
   "execution_count": null,
   "id": "58bdb8db-2692-445d-992f-007e8fbaf4c8",
   "metadata": {},
   "outputs": [],
   "source": [
    "#!pip install modin"
   ]
  },
  {
   "cell_type": "code",
   "execution_count": null,
   "id": "e90daaa0-c692-4eb1-bb7c-5ea682fea7c7",
   "metadata": {},
   "outputs": [],
   "source": [
    "#!pip install PyMySQL"
   ]
  },
  {
   "cell_type": "code",
   "execution_count": null,
   "id": "0602a9aa-3c93-411e-855c-a55951bf6aa5",
   "metadata": {},
   "outputs": [],
   "source": [
    "import os\n",
    "import pandas as pd\n",
    "import pandas_gbq as pd_gbq\n",
    "import modin.pandas as pd_mod\n",
    "from sqlalchemy import create_engine\n",
    "from google.oauth2 import service_account"
   ]
  },
  {
   "cell_type": "code",
   "execution_count": null,
   "id": "883d3d0a-f3f3-4763-a6f1-71dd12a17ce5",
   "metadata": {},
   "outputs": [],
   "source": [
    "# Service account file for GCP connection\n",
    "credentials = service_account.Credentials.from_service_account_file('key.json')\n",
    "#  BigQuery Variables\n",
    "PROJECT_ID = 'YOUR_PROJECTID'\n",
    "DATASET_ID = 'YOUR_DATASETID'\n",
    "#  MySql Variables\n",
    "MYSQL_USERNAME = 'root'\n",
    "MYSQL_PASSWORD = 'YOUR_PASSWORD'\n",
    "MYSQL_HOST = '127.0.0.1'\n",
    "MYSQL_DATABASE = 'cardiology'\n",
    "# Path for the dump directory\n",
    "DIRECTORY = 'dump'"
   ]
  },
  {
   "cell_type": "code",
   "execution_count": null,
   "id": "302c61e1-ff7b-498e-b9fe-134354045f9b",
   "metadata": {},
   "outputs": [],
   "source": [
    "tables_query = 'SELECT table_name ' \\\n",
    "               'FROM information_schema.tables ' \\\n",
    "               'WHERE TABLE_TYPE = \"BASE TABLE\" ' \\\n",
    "               'AND TABLE_SCHEMA = \"{}\";'.format(MYSQL_DATABASE)"
   ]
  },
  {
   "cell_type": "code",
   "execution_count": null,
   "id": "078e87e6-3d8a-4df0-9188-4e7cb1333226",
   "metadata": {},
   "outputs": [],
   "source": [
    "def MySQLtoBigQuery():\n",
    "\n",
    "    con_uri = 'mysql+pymysql://{}:{}@{}/{}'.format(\n",
    "        MYSQL_USERNAME,\n",
    "        MYSQL_PASSWORD,\n",
    "        MYSQL_HOST,\n",
    "        MYSQL_DATABASE\n",
    "    )\n",
    "\n",
    "    print('Connection url {}'.format(con_uri))\n",
    "\n",
    "    try:\n",
    "        engine = create_engine(con_uri, pool_recycle=3600).connect()\n",
    "    except Exception as e:\n",
    "        print('Error {}'.format(e))\n",
    "\n",
    "    tables_query = 'SELECT table_name ' \\\n",
    "                   'FROM information_schema.tables ' \\\n",
    "                   'WHERE TABLE_TYPE = \"BASE TABLE\" ' \\\n",
    "                   'AND TABLE_SCHEMA = \"{}\";'.format(MYSQL_DATABASE)\n",
    "\n",
    "    list_tables = pd.read_sql(tables_query, con_uri)\n",
    "    for index, row in list_tables.iterrows():\n",
    "\n",
    "        table_id = '{}.{}'.format(DATASET_ID, row['TABLE_NAME'])\n",
    "\n",
    "        print('Loading Table {}'.format(table_id))\n",
    "        df = pd_mod.read_sql_table(row['TABLE_NAME'], engine)\n",
    "        pd_gbq.to_gbq(df, table_id,\n",
    "                      project_id=PROJECT_ID,\n",
    "                      if_exists='replace',\n",
    "                      chunksize=10000000,\n",
    "                      progress_bar=True)"
   ]
  },
  {
   "cell_type": "code",
   "execution_count": null,
   "id": "8d56a127-ac6f-4769-adfd-80fd607d33bf",
   "metadata": {},
   "outputs": [],
   "source": [
    "from distributed import Client\n",
    "client = Client()\n",
    "MySQLtoBigQuery()"
   ]
  },
  {
   "cell_type": "code",
   "execution_count": null,
   "id": "2a9ccbb5-ac33-4b18-af8d-19a6145c5185",
   "metadata": {},
   "outputs": [],
   "source": []
  }
 ],
 "metadata": {
  "kernelspec": {
   "display_name": "Python 3 (ipykernel)",
   "language": "python",
   "name": "python3"
  },
  "language_info": {
   "codemirror_mode": {
    "name": "ipython",
    "version": 3
   },
   "file_extension": ".py",
   "mimetype": "text/x-python",
   "name": "python",
   "nbconvert_exporter": "python",
   "pygments_lexer": "ipython3",
   "version": "3.9.7"
  }
 },
 "nbformat": 4,
 "nbformat_minor": 5
}
